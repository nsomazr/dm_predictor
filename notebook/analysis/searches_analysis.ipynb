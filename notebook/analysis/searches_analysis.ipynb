{
 "cells": [
  {
   "cell_type": "code",
   "execution_count": 1,
   "metadata": {},
   "outputs": [],
   "source": [
    "import pandas as pd\n",
    "import matplotlib.pyplot as plt\n",
    "import seaborn as sb"
   ]
  },
  {
   "cell_type": "code",
   "execution_count": 4,
   "metadata": {},
   "outputs": [],
   "source": [
    "searches = pd.read_csv('../../../data/searches.csv')"
   ]
  },
  {
   "cell_type": "code",
   "execution_count": 5,
   "metadata": {},
   "outputs": [
    {
     "name": "stdout",
     "output_type": "stream",
     "text": [
      "<class 'pandas.core.frame.DataFrame'>\n",
      "RangeIndex: 10014 entries, 0 to 10013\n",
      "Data columns (total 7 columns):\n",
      " #   Column          Non-Null Count  Dtype \n",
      "---  ------          --------------  ----- \n",
      " 0   Unnamed: 0      10014 non-null  int64 \n",
      " 1   id              10014 non-null  int64 \n",
      " 2   customer_id     10014 non-null  int64 \n",
      " 3   drug_id         10014 non-null  int64 \n",
      " 4   searched_query  10014 non-null  object\n",
      " 5   created_at      10014 non-null  object\n",
      " 6   updated_at      10014 non-null  object\n",
      "dtypes: int64(4), object(3)\n",
      "memory usage: 547.8+ KB\n"
     ]
    }
   ],
   "source": [
    "searches.info()"
   ]
  },
  {
   "cell_type": "code",
   "execution_count": 12,
   "metadata": {},
   "outputs": [
    {
     "data": {
      "text/plain": [
       "searched_query\n",
       "10cc           2002\n",
       "12              432\n",
       "18             2896\n",
       "20cc           2435\n",
       "21             2731\n",
       "               ... \n",
       "àmpicl          258\n",
       "àmpiclox ca     159\n",
       "çhloramp        531\n",
       "çipro           550\n",
       "èasy            805\n",
       "Name: drug_id, Length: 3408, dtype: int64"
      ]
     },
     "execution_count": 12,
     "metadata": {},
     "output_type": "execute_result"
    }
   ],
   "source": [
    "searches.groupby('searched_query').drug_id.max()"
   ]
  }
 ],
 "metadata": {
  "kernelspec": {
   "display_name": "Python 3",
   "language": "python",
   "name": "python3"
  },
  "language_info": {
   "codemirror_mode": {
    "name": "ipython",
    "version": 3
   },
   "file_extension": ".py",
   "mimetype": "text/x-python",
   "name": "python",
   "nbconvert_exporter": "python",
   "pygments_lexer": "ipython3",
   "version": "3.10.6 (main, Nov 14 2022, 16:10:14) [GCC 11.3.0]"
  },
  "orig_nbformat": 4,
  "vscode": {
   "interpreter": {
    "hash": "916dbcbb3f70747c44a77c7bcd40155683ae19c65e1c03b4aa3499c5328201f1"
   }
  }
 },
 "nbformat": 4,
 "nbformat_minor": 2
}
