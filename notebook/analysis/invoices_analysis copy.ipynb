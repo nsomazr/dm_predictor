{
 "cells": [
  {
   "cell_type": "code",
   "execution_count": 1,
   "metadata": {},
   "outputs": [],
   "source": [
    "import pandas as pd\n",
    "import matplotlib.pyplot as plt\n",
    "import seaborn as sb"
   ]
  },
  {
   "cell_type": "code",
   "execution_count": 2,
   "metadata": {},
   "outputs": [],
   "source": [
    "invoices = pd.read_csv('../../../data/invoices.csv')"
   ]
  },
  {
   "cell_type": "code",
   "execution_count": 3,
   "metadata": {},
   "outputs": [
    {
     "name": "stdout",
     "output_type": "stream",
     "text": [
      "<class 'pandas.core.frame.DataFrame'>\n",
      "RangeIndex: 5937 entries, 0 to 5936\n",
      "Data columns (total 31 columns):\n",
      " #   Column              Non-Null Count  Dtype  \n",
      "---  ------              --------------  -----  \n",
      " 0   Unnamed: 0          5937 non-null   int64  \n",
      " 1   id                  5937 non-null   int64  \n",
      " 2   customer_id         5937 non-null   int64  \n",
      " 3   admin_id            5937 non-null   int64  \n",
      " 4   deliverer_id        452 non-null    float64\n",
      " 5   returned_items      5937 non-null   int64  \n",
      " 6   discount            5937 non-null   int64  \n",
      " 7   refund              5937 non-null   int64  \n",
      " 8   total               5937 non-null   int64  \n",
      " 9   items_count         5937 non-null   int64  \n",
      " 10  destination         5937 non-null   object \n",
      " 11  contact             5937 non-null   object \n",
      " 12  has_discount        5937 non-null   int64  \n",
      " 13  is_poked            5937 non-null   int64  \n",
      " 14  receipt             0 non-null      float64\n",
      " 15  amount              5937 non-null   int64  \n",
      " 16  total_buying_price  5937 non-null   int64  \n",
      " 17  is_paid             5937 non-null   int64  \n",
      " 18  transaction_id      355 non-null    float64\n",
      " 19  selcom_order        2482 non-null   object \n",
      " 20  invoice_number      5937 non-null   object \n",
      " 21  paid_at             5937 non-null   object \n",
      " 22  is_processed        5937 non-null   int64  \n",
      " 23  is_informed         5937 non-null   int64  \n",
      " 24  notification_count  5937 non-null   int64  \n",
      " 25  status              5937 non-null   object \n",
      " 26  is_received         5937 non-null   int64  \n",
      " 27  processed_at        5937 non-null   object \n",
      " 28  tagname             3894 non-null   object \n",
      " 29  created_at          5937 non-null   object \n",
      " 30  updated_at          5937 non-null   object \n",
      "dtypes: float64(3), int64(18), object(10)\n",
      "memory usage: 1.4+ MB\n"
     ]
    }
   ],
   "source": [
    "invoices.info()"
   ]
  },
  {
   "cell_type": "code",
   "execution_count": 6,
   "metadata": {},
   "outputs": [
    {
     "data": {
      "text/plain": [
       "customer_id\n",
       "1242    282\n",
       "106     185\n",
       "33      141\n",
       "25      126\n",
       "231     124\n",
       "       ... \n",
       "871       1\n",
       "867       1\n",
       "862       1\n",
       "861       1\n",
       "2139      1\n",
       "Name: is_paid, Length: 682, dtype: int64"
      ]
     },
     "execution_count": 6,
     "metadata": {},
     "output_type": "execute_result"
    }
   ],
   "source": [
    "invoices.groupby('customer_id').is_paid.count().sort_values(ascending=False)"
   ]
  }
 ],
 "metadata": {
  "kernelspec": {
   "display_name": "Python 3",
   "language": "python",
   "name": "python3"
  },
  "language_info": {
   "codemirror_mode": {
    "name": "ipython",
    "version": 3
   },
   "file_extension": ".py",
   "mimetype": "text/x-python",
   "name": "python",
   "nbconvert_exporter": "python",
   "pygments_lexer": "ipython3",
   "version": "3.10.6 (main, Nov 14 2022, 16:10:14) [GCC 11.3.0]"
  },
  "orig_nbformat": 4,
  "vscode": {
   "interpreter": {
    "hash": "916dbcbb3f70747c44a77c7bcd40155683ae19c65e1c03b4aa3499c5328201f1"
   }
  }
 },
 "nbformat": 4,
 "nbformat_minor": 2
}
