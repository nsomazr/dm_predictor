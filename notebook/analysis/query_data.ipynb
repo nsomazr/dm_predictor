{
 "cells": [
  {
   "cell_type": "code",
   "execution_count": 26,
   "metadata": {},
   "outputs": [
    {
     "data": {
      "text/plain": [
       "True"
      ]
     },
     "execution_count": 26,
     "metadata": {},
     "output_type": "execute_result"
    }
   ],
   "source": [
    "import os\n",
    "import pandas as pd\n",
    "from dotenv import load_dotenv\n",
    "import logging\n",
    "import sshtunnel\n",
    "from sshtunnel import SSHTunnelForwarder\n",
    "import pymysql\n",
    "import paramiko\n",
    "from os.path import expanduser\n",
    "load_dotenv()"
   ]
  },
  {
   "cell_type": "code",
   "execution_count": 27,
   "metadata": {},
   "outputs": [],
   "source": [
    "\n",
    "CREDENTIALS = {\n",
    "                 'SSH_HOST': os.getenv('SSH_HOST'),\n",
    "                 'SSH_USER':os.getenv('SSH_USER'),\n",
    "                 'SSH_PASSWORD':os.getenv('SSH_PASSWORD'), \n",
    "                 'DB_NAME' : os.getenv('DB_NAME'), \n",
    "                 'DB_USER' : os.getenv('DB_USER'),\n",
    "                 'DB_PASSWORD': os.getenv('DB_PASSWORD'),\n",
    "                 'LOCAL_HOST': os.getenv('LOCAL_HOST'),\n",
    "                 'PKEY_DIR': os.getenv('PKEY_DIR'),\n",
    "                 'HOME_PASSWORD': os.getenv('HOME_PASSWORD'),}"
   ]
  },
  {
   "cell_type": "code",
   "execution_count": 28,
   "metadata": {},
   "outputs": [],
   "source": [
    "class DBOperations:\n",
    "\n",
    "    def __init__(self):\n",
    "\n",
    "        self.connection = None\n",
    "        self.tunnel = None\n",
    "\n",
    "    def open_ssh_tunnel(self, credentials, verbose=False):\n",
    "        \"\"\"Open an SSH tunnel and connect using a username and password.\n",
    "        \n",
    "        :param verbose: Set to True to show logging\n",
    "        :return tunnel: Global SSH tunnel connection\n",
    "        \"\"\"\n",
    "\n",
    "        home = expanduser('~')\n",
    "        filepath = home+'/.ssh/id_rsa'\n",
    "        password = '@Nsom4zrts'\n",
    "        c = paramiko.SSHClient()\n",
    "        c.set_missing_host_key_policy(paramiko.AutoAddPolicy())\n",
    "\n",
    "        if verbose:\n",
    "            sshtunnel.DEFAULT_LOGLEVEL = logging.DEBUG\n",
    "        self.tunnel = SSHTunnelForwarder(\n",
    "            ('172.104.207.179', 22),\n",
    "            ssh_username = 'zephania',\n",
    "            ssh_pkey=paramiko.RSAKey.from_private_key_file(filename=filepath, password=password),\n",
    "            ssh_password = 'SiJqLi4A9rWkcb2',\n",
    "            remote_bind_address = ('127.0.0.1', 3306)\n",
    "        )\n",
    "        \n",
    "        self.tunnel.start()\n",
    "\n",
    "    def mysql_connect(self,credentials):\n",
    "        \"\"\"Connect to a MySQL server using the SSH tunnel connection\n",
    "        \n",
    "        :return connection: Global MySQL database connection\n",
    "        \"\"\"\n",
    "    \n",
    "        \n",
    "        self.connection = pymysql.connect(\n",
    "            host='127.0.0.1',\n",
    "            user='zephania_zephania_dw',\n",
    "            passwd='@zephania@dw',\n",
    "            db='zephania_dwrecdb',\n",
    "            port=self.tunnel.local_bind_port\n",
    "        )\n",
    "\n",
    "\n",
    "    def run_query(self, table_name):\n",
    "        \"\"\"Runs a given SQL query via the database connection.\n",
    "        \n",
    "        :param sql: MySQL query\n",
    "        :return: Pandas dataframe containing results\n",
    "        \"\"\"\n",
    "        if self.connection:\n",
    "            sql = \"\"\"SELECT * FROM {0} \"\"\".format(table_name)\n",
    "\n",
    "            df = pd.read_sql_query(sql, self.connection)\n",
    "            \n",
    "            df.to_csv('../../../data/'+table_name+'.csv')\n",
    "        \n",
    "        else:\n",
    "            raise ValueError(\"No database connection\")\n",
    "            \n",
    "\n",
    "    def mysql_disconnect(self):\n",
    "        \"\"\"Closes the MySQL database connection.\n",
    "        \"\"\"\n",
    "        if self.connection:  \n",
    "            self.connection.close()\n",
    "        else:\n",
    "            raise ValueError(\"No connection to close\")\n",
    "\n",
    "\n"
   ]
  },
  {
   "cell_type": "code",
   "execution_count": 29,
   "metadata": {},
   "outputs": [],
   "source": [
    "dbo_obj = DBOperations()"
   ]
  },
  {
   "cell_type": "code",
   "execution_count": 30,
   "metadata": {},
   "outputs": [
    {
     "name": "stdout",
     "output_type": "stream",
     "text": [
      "Export Successful Completed \n",
      "Database Connection Closed\n"
     ]
    }
   ],
   "source": [
    "dbo_obj.open_ssh_tunnel(credentials=CREDENTIALS)\n",
    "dbo_obj.mysql_connect(credentials=CREDENTIALS)\n",
    "table_names= ['drugs','customers','orders', 'searches', 'carts', 'invoices']\n",
    "for table_name in table_names:\n",
    "    dbo_obj.run_query(table_name=table_name)\n",
    "print(\"Export Successful Completed \\nDatabase Connection Closed\")\n",
    "dbo_obj.mysql_disconnect()"
   ]
  }
 ],
 "metadata": {
  "kernelspec": {
   "display_name": "Python 3",
   "language": "python",
   "name": "python3"
  },
  "language_info": {
   "codemirror_mode": {
    "name": "ipython",
    "version": 3
   },
   "file_extension": ".py",
   "mimetype": "text/x-python",
   "name": "python",
   "nbconvert_exporter": "python",
   "pygments_lexer": "ipython3",
   "version": "3.10.6 (main, Nov 14 2022, 16:10:14) [GCC 11.3.0]"
  },
  "orig_nbformat": 4,
  "vscode": {
   "interpreter": {
    "hash": "916dbcbb3f70747c44a77c7bcd40155683ae19c65e1c03b4aa3499c5328201f1"
   }
  }
 },
 "nbformat": 4,
 "nbformat_minor": 2
}
