{
 "cells": [
  {
   "cell_type": "code",
   "execution_count": 1,
   "metadata": {},
   "outputs": [],
   "source": [
    "import pandas as pd\n",
    "import matplotlib.pyplot as plt\n",
    "import seaborn as sb\n"
   ]
  },
  {
   "attachments": {},
   "cell_type": "markdown",
   "metadata": {},
   "source": [
    "#### Exploratory Data Analysis for customers:\n",
    "\n",
    "- ##### Descriptive EDA"
   ]
  },
  {
   "cell_type": "code",
   "execution_count": 2,
   "metadata": {},
   "outputs": [],
   "source": [
    "customers = pd.read_csv('../../../data/customers.csv')"
   ]
  },
  {
   "cell_type": "code",
   "execution_count": 3,
   "metadata": {},
   "outputs": [
    {
     "name": "stdout",
     "output_type": "stream",
     "text": [
      "<class 'pandas.core.frame.DataFrame'>\n",
      "RangeIndex: 2041 entries, 0 to 2040\n",
      "Data columns (total 45 columns):\n",
      " #   Column              Non-Null Count  Dtype  \n",
      "---  ------              --------------  -----  \n",
      " 0   Unnamed: 0          2041 non-null   int64  \n",
      " 1   id                  2041 non-null   int64  \n",
      " 2   business            2041 non-null   object \n",
      " 3   first_name          2041 non-null   object \n",
      " 4   surname             2037 non-null   object \n",
      " 5   country_id          2041 non-null   int64  \n",
      " 6   region_id           2041 non-null   int64  \n",
      " 7   district_id         2041 non-null   int64  \n",
      " 8   street              2041 non-null   object \n",
      " 9   destination         2041 non-null   object \n",
      " 10  place_name          2041 non-null   object \n",
      " 11  latitude            2041 non-null   float64\n",
      " 12  longitude           2041 non-null   float64\n",
      " 13  distance            2041 non-null   float64\n",
      " 14  phone               2041 non-null   int64  \n",
      " 15  password            2041 non-null   object \n",
      " 16  email               2041 non-null   object \n",
      " 17  otp                 2041 non-null   int64  \n",
      " 18  fcm_token           2041 non-null   object \n",
      " 19  address             2041 non-null   object \n",
      " 20  revenue             2041 non-null   int64  \n",
      " 21  tagname             284 non-null    object \n",
      " 22  profile             2041 non-null   object \n",
      " 23  has_discount        2041 non-null   int64  \n",
      " 24  discount_percent    2041 non-null   float64\n",
      " 25  status              2041 non-null   object \n",
      " 26  is_active           2041 non-null   int64  \n",
      " 27  sent_at             2041 non-null   object \n",
      " 28  sent_count          2041 non-null   int64  \n",
      " 29  verified_at         1819 non-null   object \n",
      " 30  is_verified         2041 non-null   int64  \n",
      " 31  is_approved         2041 non-null   int64  \n",
      " 32  can_purchase        2041 non-null   int64  \n",
      " 33  description         5 non-null      object \n",
      " 34  document            221 non-null    object \n",
      " 35  is_locked           2041 non-null   int64  \n",
      " 36  is_deleted          2041 non-null   int64  \n",
      " 37  reason              32 non-null     object \n",
      " 38  unsubscribe_reason  12 non-null     object \n",
      " 39  is_subscribed       2041 non-null   int64  \n",
      " 40  version             2041 non-null   object \n",
      " 41  last_login_ip       287 non-null    object \n",
      " 42  last_seen_at        2041 non-null   object \n",
      " 43  created_at          2041 non-null   object \n",
      " 44  updated_at          2041 non-null   object \n",
      "dtypes: float64(4), int64(17), object(24)\n",
      "memory usage: 717.7+ KB\n"
     ]
    }
   ],
   "source": [
    "customers.info()"
   ]
  },
  {
   "attachments": {},
   "cell_type": "markdown",
   "metadata": {},
   "source": [
    "##### Compare customers location"
   ]
  },
  {
   "cell_type": "code",
   "execution_count": 4,
   "metadata": {},
   "outputs": [
    {
     "data": {
      "text/plain": [
       "Index(['Unnamed: 0', 'id', 'business', 'first_name', 'surname', 'country_id',\n",
       "       'region_id', 'district_id', 'street', 'destination', 'place_name',\n",
       "       'latitude', 'longitude', 'distance', 'phone', 'password', 'email',\n",
       "       'otp', 'fcm_token', 'address', 'revenue', 'tagname', 'profile',\n",
       "       'has_discount', 'discount_percent', 'status', 'is_active', 'sent_at',\n",
       "       'sent_count', 'verified_at', 'is_verified', 'is_approved',\n",
       "       'can_purchase', 'description', 'document', 'is_locked', 'is_deleted',\n",
       "       'reason', 'unsubscribe_reason', 'is_subscribed', 'version',\n",
       "       'last_login_ip', 'last_seen_at', 'created_at', 'updated_at'],\n",
       "      dtype='object')"
      ]
     },
     "execution_count": 4,
     "metadata": {},
     "output_type": "execute_result"
    }
   ],
   "source": [
    "customers.columns"
   ]
  },
  {
   "cell_type": "code",
   "execution_count": 5,
   "metadata": {},
   "outputs": [
    {
     "data": {
      "text/plain": [
       "Unnamed: 0               0\n",
       "id                       0\n",
       "business                 0\n",
       "first_name               0\n",
       "surname                  4\n",
       "country_id               0\n",
       "region_id                0\n",
       "district_id              0\n",
       "street                   0\n",
       "destination              0\n",
       "place_name               0\n",
       "latitude                 0\n",
       "longitude                0\n",
       "distance                 0\n",
       "phone                    0\n",
       "password                 0\n",
       "email                    0\n",
       "otp                      0\n",
       "fcm_token                0\n",
       "address                  0\n",
       "revenue                  0\n",
       "tagname               1757\n",
       "profile                  0\n",
       "has_discount             0\n",
       "discount_percent         0\n",
       "status                   0\n",
       "is_active                0\n",
       "sent_at                  0\n",
       "sent_count               0\n",
       "verified_at            222\n",
       "is_verified              0\n",
       "is_approved              0\n",
       "can_purchase             0\n",
       "description           2036\n",
       "document              1820\n",
       "is_locked                0\n",
       "is_deleted               0\n",
       "reason                2009\n",
       "unsubscribe_reason    2029\n",
       "is_subscribed            0\n",
       "version                  0\n",
       "last_login_ip         1754\n",
       "last_seen_at             0\n",
       "created_at               0\n",
       "updated_at               0\n",
       "dtype: int64"
      ]
     },
     "execution_count": 5,
     "metadata": {},
     "output_type": "execute_result"
    }
   ],
   "source": [
    "customers.isna().sum()"
   ]
  },
  {
   "cell_type": "code",
   "execution_count": 6,
   "metadata": {},
   "outputs": [
    {
     "data": {
      "text/plain": [
       "0"
      ]
     },
     "execution_count": 6,
     "metadata": {},
     "output_type": "execute_result"
    }
   ],
   "source": [
    "customers.duplicated().sum()"
   ]
  },
  {
   "cell_type": "code",
   "execution_count": 7,
   "metadata": {},
   "outputs": [
    {
     "data": {
      "text/plain": [
       "1    2041\n",
       "Name: region_id, dtype: int64"
      ]
     },
     "execution_count": 7,
     "metadata": {},
     "output_type": "execute_result"
    }
   ],
   "source": [
    "#check regiions comparison\n",
    "customers['region_id'].value_counts()"
   ]
  },
  {
   "cell_type": "code",
   "execution_count": 8,
   "metadata": {},
   "outputs": [
    {
     "data": {
      "text/plain": [
       "1    2041\n",
       "Name: district_id, dtype: int64"
      ]
     },
     "execution_count": 8,
     "metadata": {},
     "output_type": "execute_result"
    }
   ],
   "source": [
    "#check districts\n",
    "customers['district_id'].value_counts()"
   ]
  },
  {
   "cell_type": "code",
   "execution_count": 9,
   "metadata": {},
   "outputs": [
    {
     "data": {
      "text/plain": [
       "<AxesSubplot:xlabel='longitude', ylabel='latitude'>"
      ]
     },
     "execution_count": 9,
     "metadata": {},
     "output_type": "execute_result"
    },
    {
     "data": {
      "image/png": "[encoded data removed]",
      "text/plain": [
       "<Figure size 1440x720 with 1 Axes>"
      ]
     },
     "metadata": {
      "needs_background": "light"
     },
     "output_type": "display_data"
    }
   ],
   "source": [
    "# plot a scatter plot to view data scattering\n",
    "customers.plot(kind=\"scatter\",x=\"longitude\",y=\"latitude\",figsize=(20,10),label=\"customer\")"
   ]
  },
  {
   "cell_type": "code",
   "execution_count": 10,
   "metadata": {},
   "outputs": [
    {
     "data": {
      "text/plain": [
       "0.1     2039\n",
       "18.0       1\n",
       "3.0        1\n",
       "Name: distance, dtype: int64"
      ]
     },
     "execution_count": 10,
     "metadata": {},
     "output_type": "execute_result"
    }
   ],
   "source": [
    "customers['distance'].value_counts()"
   ]
  },
  {
   "cell_type": "code",
   "execution_count": 11,
   "metadata": {},
   "outputs": [
    {
     "data": {
      "text/plain": [
       "<AxesSubplot:xlabel='distance', ylabel='count'>"
      ]
     },
     "execution_count": 11,
     "metadata": {},
     "output_type": "execute_result"
    },
    {
     "data": {
      "image/png": "[encoded data removed]",
      "text/plain": [
       "<Figure size 1440x720 with 1 Axes>"
      ]
     },
     "metadata": {
      "needs_background": "light"
     },
     "output_type": "display_data"
    }
   ],
   "source": [
    "plt.figure(figsize=(20,10))\n",
    "sb.countplot(data=customers, x='distance')"
   ]
  },
  {
   "cell_type": "code",
   "execution_count": 12,
   "metadata": {},
   "outputs": [
    {
     "data": {
      "text/plain": [
       "------                                                                           1349\n",
       "testing                                                                            19\n",
       "Dar es Salaam Unnamed Road Dar es Salam Tanzania,                                   6\n",
       "Testing                                                                             4\n",
       "test                                                                                4\n",
       "                                                                                 ... \n",
       "Kwa Asat                                                                            1\n",
       "MLIMANI CITY                                                                        1\n",
       "Dar es Salaam 67J9+5XV Dar es Salam Tanzania,                                       1\n",
       "Busra pharmacy likwati Street opp. wailes primary school temeke dar es salaam       1\n",
       "MTONI MDADA DLDM (TEST)                                                             1\n",
       "Name: street, Length: 639, dtype: int64"
      ]
     },
     "execution_count": 12,
     "metadata": {},
     "output_type": "execute_result"
    }
   ],
   "source": [
    "# check comparison of streets where customers come from\n",
    "customers['street'].value_counts()"
   ]
  },
  {
   "cell_type": "code",
   "execution_count": 13,
   "metadata": {},
   "outputs": [],
   "source": [
    "# there should be a standard way of representing streets for easy analysis, use NaPA"
   ]
  },
  {
   "cell_type": "code",
   "execution_count": 14,
   "metadata": {},
   "outputs": [
    {
     "data": {
      "text/plain": [
       "------                                                 1812\n",
       "Dar es Salaam Unnamed Road Dar es Salam Tanzania,         5\n",
       "testing                                                   3\n",
       "AYSHA PHARMACY                                            2\n",
       "tegeta nyuki                                              2\n",
       "                                                       ... \n",
       "platinum pharmacy mikocheni                               1\n",
       "chalinze, pwani                                           1\n",
       "NAKI DLDM magomeni kagera njia panda                      1\n",
       "myombo transporter iko kariakoo jangwani 0658200057       1\n",
       "MTONI MDADA DLDM (TEST)                                   1\n",
       "Name: destination, Length: 221, dtype: int64"
      ]
     },
     "execution_count": 14,
     "metadata": {},
     "output_type": "execute_result"
    }
   ],
   "source": [
    "customers['destination'].value_counts()"
   ]
  },
  {
   "cell_type": "code",
   "execution_count": 15,
   "metadata": {},
   "outputs": [],
   "source": [
    "# From the observation it can be seen destination and streets carry nearly similar information, we can decide which one is important to deal with "
   ]
  },
  {
   "cell_type": "code",
   "execution_count": 16,
   "metadata": {},
   "outputs": [
    {
     "data": {
      "text/plain": [
       "Dar es salaam Tanzania    2039\n",
       "Mbezi Beach                  1\n",
       "DM Pharmacy                  1\n",
       "Name: place_name, dtype: int64"
      ]
     },
     "execution_count": 16,
     "metadata": {},
     "output_type": "execute_result"
    }
   ],
   "source": [
    "customers['place_name'].value_counts() # what does place name signifies in comparison to street and destination"
   ]
  },
  {
   "cell_type": "code",
   "execution_count": null,
   "metadata": {},
   "outputs": [],
   "source": []
  },
  {
   "cell_type": "code",
   "execution_count": 17,
   "metadata": {},
   "outputs": [
    {
     "data": {
      "text/plain": [
       "pharmacy              19\n",
       "Pharmacy              10\n",
       "test                   8\n",
       "DLDM                   4\n",
       "john                   4\n",
       "                      ..\n",
       "Oysterbay pharmacy     1\n",
       "Breezy Pharmacy        1\n",
       "SHEKIVUNGE             1\n",
       "bede pharmacy          1\n",
       "wisser pharmacy        1\n",
       "Name: business, Length: 1895, dtype: int64"
      ]
     },
     "execution_count": 17,
     "metadata": {},
     "output_type": "execute_result"
    }
   ],
   "source": [
    "customers['business'].value_counts() # represents business name, has to be standardized(representationary)"
   ]
  },
  {
   "cell_type": "code",
   "execution_count": 18,
   "metadata": {},
   "outputs": [
    {
     "data": {
      "text/plain": [
       "1    2025\n",
       "0      16\n",
       "Name: is_subscribed, dtype: int64"
      ]
     },
     "execution_count": 18,
     "metadata": {},
     "output_type": "execute_result"
    }
   ],
   "source": [
    "customers['is_subscribed'].value_counts()"
   ]
  },
  {
   "cell_type": "code",
   "execution_count": 19,
   "metadata": {},
   "outputs": [],
   "source": [
    "# can we learn the time at which customers login frequently and choose as the best time to send the offers or discounted products"
   ]
  },
  {
   "cell_type": "code",
   "execution_count": 20,
   "metadata": {},
   "outputs": [
    {
     "data": {
      "text/html": [
       "<div>\n",
       "<style scoped>\n",
       "    .dataframe tbody tr th:only-of-type {\n",
       "        vertical-align: middle;\n",
       "    }\n",
       "\n",
       "    .dataframe tbody tr th {\n",
       "        vertical-align: top;\n",
       "    }\n",
       "\n",
       "    .dataframe thead th {\n",
       "        text-align: right;\n",
       "    }\n",
       "</style>\n",
       "<table border=\"1\" class=\"dataframe\">\n",
       "  <thead>\n",
       "    <tr style=\"text-align: right;\">\n",
       "      <th></th>\n",
       "      <th>Unnamed: 0</th>\n",
       "      <th>id</th>\n",
       "      <th>business</th>\n",
       "      <th>first_name</th>\n",
       "      <th>surname</th>\n",
       "      <th>country_id</th>\n",
       "      <th>region_id</th>\n",
       "      <th>district_id</th>\n",
       "      <th>street</th>\n",
       "      <th>destination</th>\n",
       "      <th>...</th>\n",
       "      <th>is_locked</th>\n",
       "      <th>is_deleted</th>\n",
       "      <th>reason</th>\n",
       "      <th>unsubscribe_reason</th>\n",
       "      <th>is_subscribed</th>\n",
       "      <th>version</th>\n",
       "      <th>last_login_ip</th>\n",
       "      <th>last_seen_at</th>\n",
       "      <th>created_at</th>\n",
       "      <th>updated_at</th>\n",
       "    </tr>\n",
       "  </thead>\n",
       "  <tbody>\n",
       "    <tr>\n",
       "      <th>1162</th>\n",
       "      <td>1162</td>\n",
       "      <td>1242</td>\n",
       "      <td>Kylie K</td>\n",
       "      <td></td>\n",
       "      <td>Kylie K</td>\n",
       "      <td>1</td>\n",
       "      <td>1</td>\n",
       "      <td>1</td>\n",
       "      <td>JONA KKOO 0762174910</td>\n",
       "      <td>JONA KKOO 0762174910</td>\n",
       "      <td>...</td>\n",
       "      <td>0</td>\n",
       "      <td>0</td>\n",
       "      <td>NaN</td>\n",
       "      <td>NaN</td>\n",
       "      <td>1</td>\n",
       "      <td>2.0.221121</td>\n",
       "      <td>41.222.181.181</td>\n",
       "      <td>2023-01-20 09:43:50</td>\n",
       "      <td>2022-10-08 14:22:29</td>\n",
       "      <td>2023-01-20 15:52:11</td>\n",
       "    </tr>\n",
       "  </tbody>\n",
       "</table>\n",
       "<p>1 rows × 45 columns</p>\n",
       "</div>"
      ],
      "text/plain": [
       "      Unnamed: 0    id business first_name  surname  country_id  region_id  \\\n",
       "1162        1162  1242  Kylie K             Kylie K           1          1   \n",
       "\n",
       "      district_id                street           destination  ... is_locked  \\\n",
       "1162            1  JONA KKOO 0762174910  JONA KKOO 0762174910  ...         0   \n",
       "\n",
       "      is_deleted  reason  unsubscribe_reason  is_subscribed     version  \\\n",
       "1162           0     NaN                 NaN              1  2.0.221121   \n",
       "\n",
       "       last_login_ip         last_seen_at           created_at  \\\n",
       "1162  41.222.181.181  2023-01-20 09:43:50  2022-10-08 14:22:29   \n",
       "\n",
       "               updated_at  \n",
       "1162  2023-01-20 15:52:11  \n",
       "\n",
       "[1 rows x 45 columns]"
      ]
     },
     "execution_count": 20,
     "metadata": {},
     "output_type": "execute_result"
    }
   ],
   "source": [
    "customers[customers['id']==1242]"
   ]
  },
  {
   "cell_type": "code",
   "execution_count": 22,
   "metadata": {},
   "outputs": [
    {
     "data": {
      "text/plain": [
       "1"
      ]
     },
     "execution_count": 22,
     "metadata": {},
     "output_type": "execute_result"
    }
   ],
   "source": [
    "len(customers['country_id'].value_counts())"
   ]
  },
  {
   "cell_type": "code",
   "execution_count": 23,
   "metadata": {},
   "outputs": [
    {
     "data": {
      "text/plain": [
       "3"
      ]
     },
     "execution_count": 23,
     "metadata": {},
     "output_type": "execute_result"
    }
   ],
   "source": [
    "len(customers['place_name'].value_counts())"
   ]
  },
  {
   "cell_type": "code",
   "execution_count": null,
   "metadata": {},
   "outputs": [],
   "source": []
  }
 ],
 "metadata": {
  "kernelspec": {
   "display_name": "Python 3",
   "language": "python",
   "name": "python3"
  },
  "language_info": {
   "codemirror_mode": {
    "name": "ipython",
    "version": 3
   },
   "file_extension": ".py",
   "mimetype": "text/x-python",
   "name": "python",
   "nbconvert_exporter": "python",
   "pygments_lexer": "ipython3",
   "version": "3.10.6"
  },
  "orig_nbformat": 4,
  "vscode": {
   "interpreter": {
    "hash": "916dbcbb3f70747c44a77c7bcd40155683ae19c65e1c03b4aa3499c5328201f1"
   }
  }
 },
 "nbformat": 4,
 "nbformat_minor": 2
}
