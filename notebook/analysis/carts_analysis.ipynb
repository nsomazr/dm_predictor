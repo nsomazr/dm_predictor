{
 "cells": [
  {
   "cell_type": "code",
   "execution_count": 2,
   "metadata": {},
   "outputs": [],
   "source": [
    "import pandas as pd\n",
    "import matplotlib.pyplot as plt\n",
    "import seaborn as sb"
   ]
  },
  {
   "cell_type": "code",
   "execution_count": 4,
   "metadata": {},
   "outputs": [],
   "source": [
    "carts = pd.read_csv('../../../data/carts.csv')"
   ]
  },
  {
   "cell_type": "code",
   "execution_count": 5,
   "metadata": {},
   "outputs": [
    {
     "name": "stdout",
     "output_type": "stream",
     "text": [
      "<class 'pandas.core.frame.DataFrame'>\n",
      "RangeIndex: 3265 entries, 0 to 3264\n",
      "Data columns (total 20 columns):\n",
      " #   Column              Non-Null Count  Dtype \n",
      "---  ------              --------------  ----- \n",
      " 0   Unnamed: 0          3265 non-null   int64 \n",
      " 1   id                  3265 non-null   int64 \n",
      " 2   category_id         3265 non-null   int64 \n",
      " 3   customer_id         3265 non-null   int64 \n",
      " 4   drug_id             3265 non-null   int64 \n",
      " 5   name                3265 non-null   object\n",
      " 6   buying_price        3265 non-null   int64 \n",
      " 7   price               3265 non-null   int64 \n",
      " 8   is_visible          3265 non-null   int64 \n",
      " 9   has_offer           3265 non-null   int64 \n",
      " 10  quantity            3265 non-null   int64 \n",
      " 11  has_discount        3265 non-null   int64 \n",
      " 12  amount              3265 non-null   int64 \n",
      " 13  discount            3265 non-null   int64 \n",
      " 14  discount_total      3265 non-null   int64 \n",
      " 15  total               3265 non-null   int64 \n",
      " 16  total_buying_price  3265 non-null   int64 \n",
      " 17  photo               3265 non-null   object\n",
      " 18  created_at          3265 non-null   object\n",
      " 19  updated_at          3265 non-null   object\n",
      "dtypes: int64(16), object(4)\n",
      "memory usage: 510.3+ KB\n"
     ]
    }
   ],
   "source": [
    "carts.info()"
   ]
  },
  {
   "cell_type": "code",
   "execution_count": 6,
   "metadata": {},
   "outputs": [
    {
     "data": {
      "text/plain": [
       "278     52\n",
       "2264    51\n",
       "159     47\n",
       "2465    37\n",
       "1622    28\n",
       "        ..\n",
       "1229     1\n",
       "1221     1\n",
       "1142     1\n",
       "2376     1\n",
       "2182     1\n",
       "Name: drug_id, Length: 924, dtype: int64"
      ]
     },
     "execution_count": 6,
     "metadata": {},
     "output_type": "execute_result"
    }
   ],
   "source": [
    "carts['drug_id'].value_counts()"
   ]
  },
  {
   "cell_type": "code",
   "execution_count": 11,
   "metadata": {},
   "outputs": [
    {
     "data": {
      "text/plain": [
       "customer_id\n",
       "364     133\n",
       "1185     84\n",
       "1856     77\n",
       "132      71\n",
       "1934     71\n",
       "       ... \n",
       "965       1\n",
       "943       1\n",
       "938       1\n",
       "937       1\n",
       "2162      1\n",
       "Name: drug_id, Length: 615, dtype: int64"
      ]
     },
     "execution_count": 11,
     "metadata": {},
     "output_type": "execute_result"
    }
   ],
   "source": [
    "carts.groupby('customer_id').drug_id.count().sort_values(ascending=False)"
   ]
  }
 ],
 "metadata": {
  "kernelspec": {
   "display_name": "Python 3",
   "language": "python",
   "name": "python3"
  },
  "language_info": {
   "codemirror_mode": {
    "name": "ipython",
    "version": 3
   },
   "file_extension": ".py",
   "mimetype": "text/x-python",
   "name": "python",
   "nbconvert_exporter": "python",
   "pygments_lexer": "ipython3",
   "version": "3.10.6"
  },
  "orig_nbformat": 4,
  "vscode": {
   "interpreter": {
    "hash": "916dbcbb3f70747c44a77c7bcd40155683ae19c65e1c03b4aa3499c5328201f1"
   }
  }
 },
 "nbformat": 4,
 "nbformat_minor": 2
}
